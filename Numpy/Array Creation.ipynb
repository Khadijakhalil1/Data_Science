{
 "cells": [
  {
   "cell_type": "code",
   "execution_count": 2,
   "id": "7ece7483-0953-4999-bdd4-8af8a62004bc",
   "metadata": {},
   "outputs": [],
   "source": [
    "import numpy as np"
   ]
  },
  {
   "cell_type": "code",
   "execution_count": 4,
   "id": "371b5ede-a592-43e7-b11b-a363b4668d41",
   "metadata": {},
   "outputs": [],
   "source": [
    "a= np.array([1,2,3,4,5])"
   ]
  },
  {
   "cell_type": "code",
   "execution_count": 6,
   "id": "214ad306-23f2-44d8-ab94-202664f586df",
   "metadata": {},
   "outputs": [],
   "source": [
    "b=np.array([1,6,3,4,9])"
   ]
  },
  {
   "cell_type": "code",
   "execution_count": 7,
   "id": "dfd8332c-2417-48ec-ab58-9931c4d0852d",
   "metadata": {},
   "outputs": [
    {
     "name": "stdout",
     "output_type": "stream",
     "text": [
      "[1 2 3 4 5]\n"
     ]
    }
   ],
   "source": [
    "print(a)"
   ]
  },
  {
   "cell_type": "code",
   "execution_count": 8,
   "id": "865d488a-38f7-47b7-838b-e136f2e75292",
   "metadata": {},
   "outputs": [
    {
     "name": "stdout",
     "output_type": "stream",
     "text": [
      "[1 6 3 4 9]\n"
     ]
    }
   ],
   "source": [
    "print(b)"
   ]
  },
  {
   "cell_type": "code",
   "execution_count": 10,
   "id": "68c3bbaf-6972-406d-9645-8d4de23ed79d",
   "metadata": {},
   "outputs": [
    {
     "data": {
      "text/plain": [
       "numpy.ndarray"
      ]
     },
     "execution_count": 10,
     "metadata": {},
     "output_type": "execute_result"
    }
   ],
   "source": [
    "type(a)"
   ]
  },
  {
   "cell_type": "code",
   "execution_count": 11,
   "id": "aa94bf31-f681-4337-bcbb-2d8b83fea3af",
   "metadata": {},
   "outputs": [
    {
     "data": {
      "text/plain": [
       "numpy.ndarray"
      ]
     },
     "execution_count": 11,
     "metadata": {},
     "output_type": "execute_result"
    }
   ],
   "source": [
    "type(b)"
   ]
  },
  {
   "cell_type": "code",
   "execution_count": 12,
   "id": "4fe4bdb7-26cb-4a7a-8b25-2eca1670c18a",
   "metadata": {},
   "outputs": [
    {
     "data": {
      "text/plain": [
       "dtype('int32')"
      ]
     },
     "execution_count": 12,
     "metadata": {},
     "output_type": "execute_result"
    }
   ],
   "source": [
    "a.dtype"
   ]
  },
  {
   "cell_type": "code",
   "execution_count": 13,
   "id": "f07c01b7-5ee1-4b94-8ce7-62a0bf66c127",
   "metadata": {},
   "outputs": [
    {
     "data": {
      "text/plain": [
       "1"
      ]
     },
     "execution_count": 13,
     "metadata": {},
     "output_type": "execute_result"
    }
   ],
   "source": [
    "a.ndim"
   ]
  },
  {
   "cell_type": "code",
   "execution_count": 14,
   "id": "9c429b04-10bb-4ca9-8a91-85e66e0871ad",
   "metadata": {},
   "outputs": [],
   "source": [
    "k=np.array([[1,3,6]])"
   ]
  },
  {
   "cell_type": "code",
   "execution_count": 15,
   "id": "01cfcf2c-b967-48f7-93bc-c92de9cca27f",
   "metadata": {},
   "outputs": [
    {
     "data": {
      "text/plain": [
       "2"
      ]
     },
     "execution_count": 15,
     "metadata": {},
     "output_type": "execute_result"
    }
   ],
   "source": [
    "k.ndim"
   ]
  },
  {
   "cell_type": "code",
   "execution_count": 17,
   "id": "886aa51b-47c8-4b8b-a873-f714c3620e50",
   "metadata": {},
   "outputs": [
    {
     "data": {
      "text/plain": [
       "3"
      ]
     },
     "execution_count": 17,
     "metadata": {},
     "output_type": "execute_result"
    }
   ],
   "source": [
    "k[0,1]"
   ]
  },
  {
   "cell_type": "code",
   "execution_count": 18,
   "id": "f0eb9533-d2b1-41dd-a237-08a9002441fb",
   "metadata": {},
   "outputs": [
    {
     "data": {
      "text/plain": [
       "(1, 3)"
      ]
     },
     "execution_count": 18,
     "metadata": {},
     "output_type": "execute_result"
    }
   ],
   "source": [
    "k.shape"
   ]
  },
  {
   "cell_type": "code",
   "execution_count": 19,
   "id": "306fd152-77de-46c6-a1a3-6348f84c13c0",
   "metadata": {},
   "outputs": [
    {
     "data": {
      "text/plain": [
       "dtype('int32')"
      ]
     },
     "execution_count": 19,
     "metadata": {},
     "output_type": "execute_result"
    }
   ],
   "source": [
    "k.dtype"
   ]
  },
  {
   "cell_type": "code",
   "execution_count": 20,
   "id": "7951d93f-752b-449e-8e31-4878e4448937",
   "metadata": {},
   "outputs": [
    {
     "data": {
      "text/plain": [
       "array([[1, 3, 6]])"
      ]
     },
     "execution_count": 20,
     "metadata": {},
     "output_type": "execute_result"
    }
   ],
   "source": [
    "k"
   ]
  },
  {
   "cell_type": "code",
   "execution_count": 21,
   "id": "d2ffc00f-c355-40da-be03-b34c380df5c3",
   "metadata": {},
   "outputs": [],
   "source": [
    "k[0,0]=8"
   ]
  },
  {
   "cell_type": "code",
   "execution_count": 22,
   "id": "dd56bd51-5df3-403e-86e0-f108ffdbcaab",
   "metadata": {},
   "outputs": [
    {
     "data": {
      "text/plain": [
       "array([[8, 3, 6]])"
      ]
     },
     "execution_count": 22,
     "metadata": {},
     "output_type": "execute_result"
    }
   ],
   "source": [
    "k"
   ]
  },
  {
   "cell_type": "markdown",
   "id": "15be8c9e-aa2a-49d2-9209-294c6cc7b8c8",
   "metadata": {},
   "source": [
    "# **Array Creation : Conversion from other python structure**"
   ]
  },
  {
   "cell_type": "code",
   "execution_count": 25,
   "id": "a2c5e525-d0d7-4be2-9c5c-47e97c02339c",
   "metadata": {},
   "outputs": [],
   "source": [
    "listArray=np.array([[8,3,6],[1,6,9],[3,5,4]])"
   ]
  },
  {
   "cell_type": "code",
   "execution_count": 26,
   "id": "19a97935-60dc-43e0-b804-eb60b6eae7e1",
   "metadata": {},
   "outputs": [
    {
     "data": {
      "text/plain": [
       "array([[8, 3, 6],\n",
       "       [1, 6, 9],\n",
       "       [3, 5, 4]])"
      ]
     },
     "execution_count": 26,
     "metadata": {},
     "output_type": "execute_result"
    }
   ],
   "source": [
    "listArray"
   ]
  },
  {
   "cell_type": "code",
   "execution_count": 29,
   "id": "d40fd75f-8296-4d2d-8cff-bf7c56a6d179",
   "metadata": {},
   "outputs": [
    {
     "data": {
      "text/plain": [
       "(3, 3)"
      ]
     },
     "execution_count": 29,
     "metadata": {},
     "output_type": "execute_result"
    }
   ],
   "source": [
    "listArray.shape"
   ]
  },
  {
   "cell_type": "code",
   "execution_count": 30,
   "id": "6cc4a6a4-a5e6-401b-bcc7-5ff386aba664",
   "metadata": {},
   "outputs": [
    {
     "data": {
      "text/plain": [
       "9"
      ]
     },
     "execution_count": 30,
     "metadata": {},
     "output_type": "execute_result"
    }
   ],
   "source": [
    "listArray.size"
   ]
  },
  {
   "cell_type": "code",
   "execution_count": 32,
   "id": "8c5cd5d0-1eea-49ec-9df7-1ece06230a3d",
   "metadata": {},
   "outputs": [],
   "source": [
    "z=np.zeros((2,3))"
   ]
  },
  {
   "cell_type": "code",
   "execution_count": 33,
   "id": "10414ae1-abd7-4419-88e3-ccd477742cff",
   "metadata": {},
   "outputs": [
    {
     "data": {
      "text/plain": [
       "array([[0., 0., 0.],\n",
       "       [0., 0., 0.]])"
      ]
     },
     "execution_count": 33,
     "metadata": {},
     "output_type": "execute_result"
    }
   ],
   "source": [
    "z"
   ]
  },
  {
   "cell_type": "code",
   "execution_count": 34,
   "id": "39da43d7-ac05-4053-b484-73464df0ea55",
   "metadata": {},
   "outputs": [],
   "source": [
    "r=np.arange(7)"
   ]
  },
  {
   "cell_type": "code",
   "execution_count": 35,
   "id": "26322aba-e331-4411-8b78-a716ceef5bc3",
   "metadata": {},
   "outputs": [
    {
     "data": {
      "text/plain": [
       "array([0, 1, 2, 3, 4, 5, 6])"
      ]
     },
     "execution_count": 35,
     "metadata": {},
     "output_type": "execute_result"
    }
   ],
   "source": [
    "r"
   ]
  },
  {
   "cell_type": "code",
   "execution_count": 36,
   "id": "0ef663a6-b86f-4ac4-9a36-8a49682d235e",
   "metadata": {},
   "outputs": [],
   "source": [
    "s=np.linspace(1,50,10)"
   ]
  },
  {
   "cell_type": "code",
   "execution_count": 37,
   "id": "0bce5c12-73b5-4ad6-929d-8a4cbb26ab5a",
   "metadata": {},
   "outputs": [
    {
     "data": {
      "text/plain": [
       "array([ 1.        ,  6.44444444, 11.88888889, 17.33333333, 22.77777778,\n",
       "       28.22222222, 33.66666667, 39.11111111, 44.55555556, 50.        ])"
      ]
     },
     "execution_count": 37,
     "metadata": {},
     "output_type": "execute_result"
    }
   ],
   "source": [
    "s"
   ]
  },
  {
   "cell_type": "code",
   "execution_count": 42,
   "id": "373ba2d8-e3ad-40c9-970e-a14459ea1c61",
   "metadata": {},
   "outputs": [],
   "source": [
    "s1=np.linspace(1,16,5)"
   ]
  },
  {
   "cell_type": "code",
   "execution_count": 43,
   "id": "94fef91e-fb49-4386-a90b-a5c23770b649",
   "metadata": {},
   "outputs": [
    {
     "data": {
      "text/plain": [
       "array([ 1.  ,  4.75,  8.5 , 12.25, 16.  ])"
      ]
     },
     "execution_count": 43,
     "metadata": {},
     "output_type": "execute_result"
    }
   ],
   "source": [
    "s1"
   ]
  },
  {
   "cell_type": "code",
   "execution_count": 46,
   "id": "cea9a0d9-a6b4-4e7c-aa5b-0e40243525b7",
   "metadata": {},
   "outputs": [],
   "source": [
    "e=np.empty((5,5))"
   ]
  },
  {
   "cell_type": "code",
   "execution_count": 47,
   "id": "cbde1cb2-4f2d-4698-b0f8-9bff50523f85",
   "metadata": {},
   "outputs": [
    {
     "data": {
      "text/plain": [
       "array([[6.23042070e-307, 1.42417221e-306, 1.60219306e-306,\n",
       "        7.56593017e-307, 7.56587584e-307],\n",
       "       [1.37961302e-306, 1.05699242e-307, 8.01097889e-307,\n",
       "        1.78020169e-306, 7.56601165e-307],\n",
       "       [1.02359984e-306, 1.42417221e-306, 7.56593017e-307,\n",
       "        1.37961302e-306, 1.11259940e-306],\n",
       "       [1.60219035e-306, 1.33511018e-306, 8.90092016e-307,\n",
       "        9.79098366e-307, 9.34605037e-307],\n",
       "       [1.37962320e-306, 1.37961302e-306, 2.22522596e-306,\n",
       "        0.00000000e+000, 0.00000000e+000]])"
      ]
     },
     "execution_count": 47,
     "metadata": {},
     "output_type": "execute_result"
    }
   ],
   "source": [
    "e"
   ]
  },
  {
   "cell_type": "code",
   "execution_count": 48,
   "id": "275e121f-f6e1-4d44-9b04-4153065461da",
   "metadata": {},
   "outputs": [],
   "source": [
    "like=np.empty_like(s)"
   ]
  },
  {
   "cell_type": "code",
   "execution_count": 49,
   "id": "e5498731-b68a-4b33-8e90-d543c69587fe",
   "metadata": {},
   "outputs": [
    {
     "data": {
      "text/plain": [
       "array([ 1.        ,  6.44444444, 11.88888889, 17.33333333, 22.77777778,\n",
       "       28.22222222, 33.66666667, 39.11111111, 44.55555556, 50.        ])"
      ]
     },
     "execution_count": 49,
     "metadata": {},
     "output_type": "execute_result"
    }
   ],
   "source": [
    "like"
   ]
  },
  {
   "cell_type": "code",
   "execution_count": 51,
   "id": "17b92723-f4b9-47de-98b8-9195caedd87b",
   "metadata": {},
   "outputs": [],
   "source": [
    "ide=np.identity(33)"
   ]
  },
  {
   "cell_type": "code",
   "execution_count": 52,
   "id": "a5143084-9bc5-4036-a796-4b58765f573d",
   "metadata": {},
   "outputs": [
    {
     "data": {
      "text/plain": [
       "array([[1., 0., 0., ..., 0., 0., 0.],\n",
       "       [0., 1., 0., ..., 0., 0., 0.],\n",
       "       [0., 0., 1., ..., 0., 0., 0.],\n",
       "       ...,\n",
       "       [0., 0., 0., ..., 1., 0., 0.],\n",
       "       [0., 0., 0., ..., 0., 1., 0.],\n",
       "       [0., 0., 0., ..., 0., 0., 1.]])"
      ]
     },
     "execution_count": 52,
     "metadata": {},
     "output_type": "execute_result"
    }
   ],
   "source": [
    "ide"
   ]
  },
  {
   "cell_type": "code",
   "execution_count": 53,
   "id": "3d2594c6-e36c-4585-bb1b-ec2f6301e73f",
   "metadata": {},
   "outputs": [
    {
     "data": {
      "text/plain": [
       "(33, 33)"
      ]
     },
     "execution_count": 53,
     "metadata": {},
     "output_type": "execute_result"
    }
   ],
   "source": [
    "ide.shape"
   ]
  },
  {
   "cell_type": "code",
   "execution_count": 54,
   "id": "7f092a41-5583-4039-b51b-dc0f52cac2d9",
   "metadata": {},
   "outputs": [],
   "source": [
    "arr= np.arange(99)"
   ]
  },
  {
   "cell_type": "code",
   "execution_count": 55,
   "id": "76079e4d-8e80-46f7-95ee-59ab192516de",
   "metadata": {},
   "outputs": [
    {
     "data": {
      "text/plain": [
       "array([ 0,  1,  2,  3,  4,  5,  6,  7,  8,  9, 10, 11, 12, 13, 14, 15, 16,\n",
       "       17, 18, 19, 20, 21, 22, 23, 24, 25, 26, 27, 28, 29, 30, 31, 32, 33,\n",
       "       34, 35, 36, 37, 38, 39, 40, 41, 42, 43, 44, 45, 46, 47, 48, 49, 50,\n",
       "       51, 52, 53, 54, 55, 56, 57, 58, 59, 60, 61, 62, 63, 64, 65, 66, 67,\n",
       "       68, 69, 70, 71, 72, 73, 74, 75, 76, 77, 78, 79, 80, 81, 82, 83, 84,\n",
       "       85, 86, 87, 88, 89, 90, 91, 92, 93, 94, 95, 96, 97, 98])"
      ]
     },
     "execution_count": 55,
     "metadata": {},
     "output_type": "execute_result"
    }
   ],
   "source": [
    "arr"
   ]
  },
  {
   "cell_type": "code",
   "execution_count": 57,
   "id": "ffa6ea09-3264-4642-adf7-4e2e69e9ad40",
   "metadata": {},
   "outputs": [],
   "source": [
    "arr=arr.reshape(3,33)"
   ]
  },
  {
   "cell_type": "code",
   "execution_count": 58,
   "id": "c0fcfd61-9b8f-486e-a5b2-64835ffbbd70",
   "metadata": {},
   "outputs": [
    {
     "data": {
      "text/plain": [
       "array([[ 0,  1,  2,  3,  4,  5,  6,  7,  8,  9, 10, 11, 12, 13, 14, 15,\n",
       "        16, 17, 18, 19, 20, 21, 22, 23, 24, 25, 26, 27, 28, 29, 30, 31,\n",
       "        32],\n",
       "       [33, 34, 35, 36, 37, 38, 39, 40, 41, 42, 43, 44, 45, 46, 47, 48,\n",
       "        49, 50, 51, 52, 53, 54, 55, 56, 57, 58, 59, 60, 61, 62, 63, 64,\n",
       "        65],\n",
       "       [66, 67, 68, 69, 70, 71, 72, 73, 74, 75, 76, 77, 78, 79, 80, 81,\n",
       "        82, 83, 84, 85, 86, 87, 88, 89, 90, 91, 92, 93, 94, 95, 96, 97,\n",
       "        98]])"
      ]
     },
     "execution_count": 58,
     "metadata": {},
     "output_type": "execute_result"
    }
   ],
   "source": [
    "arr"
   ]
  },
  {
   "cell_type": "markdown",
   "id": "2f05a7aa-ff51-4280-913b-6ac50ae26aa9",
   "metadata": {},
   "source": [
    "**To convert it into Real shape**"
   ]
  },
  {
   "cell_type": "code",
   "execution_count": 59,
   "id": "4329f53a-fb06-4530-bbf8-fe45e2575cbe",
   "metadata": {},
   "outputs": [],
   "source": [
    "arr=arr.ravel()"
   ]
  },
  {
   "cell_type": "code",
   "execution_count": 60,
   "id": "4f470949-c02d-493e-8e5f-815090b703d5",
   "metadata": {},
   "outputs": [
    {
     "data": {
      "text/plain": [
       "array([ 0,  1,  2,  3,  4,  5,  6,  7,  8,  9, 10, 11, 12, 13, 14, 15, 16,\n",
       "       17, 18, 19, 20, 21, 22, 23, 24, 25, 26, 27, 28, 29, 30, 31, 32, 33,\n",
       "       34, 35, 36, 37, 38, 39, 40, 41, 42, 43, 44, 45, 46, 47, 48, 49, 50,\n",
       "       51, 52, 53, 54, 55, 56, 57, 58, 59, 60, 61, 62, 63, 64, 65, 66, 67,\n",
       "       68, 69, 70, 71, 72, 73, 74, 75, 76, 77, 78, 79, 80, 81, 82, 83, 84,\n",
       "       85, 86, 87, 88, 89, 90, 91, 92, 93, 94, 95, 96, 97, 98])"
      ]
     },
     "execution_count": 60,
     "metadata": {},
     "output_type": "execute_result"
    }
   ],
   "source": [
    "arr"
   ]
  },
  {
   "cell_type": "code",
   "execution_count": 62,
   "id": "02ca8009-4d55-461a-8544-7966392c9981",
   "metadata": {},
   "outputs": [
    {
     "data": {
      "text/plain": [
       "(99,)"
      ]
     },
     "execution_count": 62,
     "metadata": {},
     "output_type": "execute_result"
    }
   ],
   "source": [
    "arr.shape"
   ]
  }
 ],
 "metadata": {
  "kernelspec": {
   "display_name": "Python [conda env:base] *",
   "language": "python",
   "name": "conda-base-py"
  },
  "language_info": {
   "codemirror_mode": {
    "name": "ipython",
    "version": 3
   },
   "file_extension": ".py",
   "mimetype": "text/x-python",
   "name": "python",
   "nbconvert_exporter": "python",
   "pygments_lexer": "ipython3",
   "version": "3.12.7"
  }
 },
 "nbformat": 4,
 "nbformat_minor": 5
}
