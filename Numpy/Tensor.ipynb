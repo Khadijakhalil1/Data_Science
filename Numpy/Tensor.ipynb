{
 "cells": [
  {
   "cell_type": "markdown",
   "id": "53422376-e11d-416c-a980-7411f769524f",
   "metadata": {},
   "source": [
    "# Vector,Matrix and Tensor"
   ]
  },
  {
   "cell_type": "code",
   "execution_count": 5,
   "id": "05bce90b-902e-4381-b216-bdb6bd689757",
   "metadata": {},
   "outputs": [],
   "source": [
    "import numpy as np"
   ]
  },
  {
   "cell_type": "code",
   "execution_count": 6,
   "id": "a1a28006-09b4-41dd-b508-85603480f270",
   "metadata": {},
   "outputs": [
    {
     "name": "stdout",
     "output_type": "stream",
     "text": [
      "Vector :  [1 2 3]\n"
     ]
    }
   ],
   "source": [
    "vector = np.array([1,2,3])\n",
    "print(\"Vector : \",vector)"
   ]
  },
  {
   "cell_type": "code",
   "execution_count": 8,
   "id": "0e26d704-8ab8-46b1-bace-c0ac15d0bcaa",
   "metadata": {},
   "outputs": [
    {
     "name": "stdout",
     "output_type": "stream",
     "text": [
      "Matrix :  [[1 2 3]\n",
      " [4 6 8]]\n"
     ]
    }
   ],
   "source": [
    "Matrix = np.array([[1,2,3],\n",
    "                 [4,6,8]])\n",
    "print(\"Matrix : \",Matrix)"
   ]
  },
  {
   "cell_type": "code",
   "execution_count": null,
   "id": "db13349b-ecd6-42fe-b171-8337b694bab4",
   "metadata": {},
   "outputs": [],
   "source": [
    "Tensor = np.array([1,2,3],\n",
    "                 [4,6,8])\n",
    "print(\"Tensor : \",Tensor)"
   ]
  }
 ],
 "metadata": {
  "kernelspec": {
   "display_name": "Python [conda env:base] *",
   "language": "python",
   "name": "conda-base-py"
  },
  "language_info": {
   "codemirror_mode": {
    "name": "ipython",
    "version": 3
   },
   "file_extension": ".py",
   "mimetype": "text/x-python",
   "name": "python",
   "nbconvert_exporter": "python",
   "pygments_lexer": "ipython3",
   "version": "3.12.7"
  }
 },
 "nbformat": 4,
 "nbformat_minor": 5
}
