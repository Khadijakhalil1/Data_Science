{
 "cells": [
  {
   "cell_type": "markdown",
   "id": "b45e8c6f-807b-4924-b3b4-cdaf8e5389b5",
   "metadata": {},
   "source": [
    "# Cosine Similarity"
   ]
  },
  {
   "cell_type": "code",
   "execution_count": 1,
   "id": "0d9f5327-0cf7-4053-8481-b56bdd4bea58",
   "metadata": {},
   "outputs": [],
   "source": [
    "import numpy as np"
   ]
  },
  {
   "cell_type": "code",
   "execution_count": 3,
   "id": "1be73029-b58e-42ce-b380-2de7ab57f2ad",
   "metadata": {},
   "outputs": [],
   "source": [
    "vec1=np.array([1,2,7,4,8])\n",
    "vec2=np.array([5,3,6,9,1])"
   ]
  },
  {
   "cell_type": "code",
   "execution_count": 4,
   "id": "9cb0cd6f-1569-4e77-9a94-e8aad88e081a",
   "metadata": {},
   "outputs": [
    {
     "name": "stdout",
     "output_type": "stream",
     "text": [
      "\n",
      "Dot product 97\n"
     ]
    }
   ],
   "source": [
    "print(\"\\nDot product\",np.dot(vec1,vec2))"
   ]
  },
  {
   "cell_type": "code",
   "execution_count": 6,
   "id": "008f2bf1-9258-4d31-9e43-d43f5c915806",
   "metadata": {},
   "outputs": [],
   "source": [
    "angle=np.arccos(np.dot(vec1,vec2)/(np.linalg.norm(vec1)*np.linalg.norm(vec2)))"
   ]
  },
  {
   "cell_type": "code",
   "execution_count": 7,
   "id": "a8e33542-005a-4491-918a-4e2a8a3a01f9",
   "metadata": {},
   "outputs": [
    {
     "name": "stdout",
     "output_type": "stream",
     "text": [
      "0.8234848671869103\n"
     ]
    }
   ],
   "source": [
    "print(angle)"
   ]
  },
  {
   "cell_type": "code",
   "execution_count": null,
   "id": "89dad25f-1439-4a49-98f5-b0b9fd6a051f",
   "metadata": {},
   "outputs": [],
   "source": []
  }
 ],
 "metadata": {
  "kernelspec": {
   "display_name": "Python [conda env:base] *",
   "language": "python",
   "name": "conda-base-py"
  },
  "language_info": {
   "codemirror_mode": {
    "name": "ipython",
    "version": 3
   },
   "file_extension": ".py",
   "mimetype": "text/x-python",
   "name": "python",
   "nbconvert_exporter": "python",
   "pygments_lexer": "ipython3",
   "version": "3.12.7"
  }
 },
 "nbformat": 4,
 "nbformat_minor": 5
}
