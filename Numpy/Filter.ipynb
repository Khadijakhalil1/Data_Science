{
 "cells": [
  {
   "cell_type": "markdown",
   "id": "4a4bdff2-85f7-4304-b40f-1c5382c115fb",
   "metadata": {},
   "source": [
    "# Sorting"
   ]
  },
  {
   "cell_type": "code",
   "execution_count": 3,
   "id": "f539133a-e7e9-4ebc-b0e2-98f40e13db22",
   "metadata": {},
   "outputs": [],
   "source": [
    "import numpy as np"
   ]
  },
  {
   "cell_type": "code",
   "execution_count": 5,
   "id": "1c7cad0a-f46e-4d18-8052-b34176b92af4",
   "metadata": {},
   "outputs": [
    {
     "name": "stdout",
     "output_type": "stream",
     "text": [
      "sorted Array [1 1 2 3 4 5 6 9]\n",
      "Sorted 2D array by column [[1 1]\n",
      " [2 2]\n",
      " [3 3]]\n"
     ]
    }
   ],
   "source": [
    "unsorted =np.array([3,1,4,1,5,9,2,6])\n",
    "print(\"sorted Array\",np.sort(unsorted))\n",
    "\n",
    "arr_2d_unsorted=np.array([[3,1],[1,2],[2,3]])\n",
    "print(\"Sorted 2D array by column\",np.sort(arr_2d_unsorted,axis=0))\n"
   ]
  },
  {
   "cell_type": "code",
   "execution_count": 6,
   "id": "a2e64e56-f8f8-4648-9a59-21d414f22e1f",
   "metadata": {},
   "outputs": [],
   "source": [
    "#Filter"
   ]
  },
  {
   "cell_type": "code",
   "execution_count": 7,
   "id": "51249e7d-c3d7-4e61-b373-6887ff8104af",
   "metadata": {},
   "outputs": [
    {
     "name": "stdout",
     "output_type": "stream",
     "text": [
      "Even numbers [ 2  4  6  8 10]\n"
     ]
    }
   ],
   "source": [
    "num = np.array([1,2,3,4,5,6,7,8,9,10])\n",
    "even_num =num[num%2 == 0]\n",
    "print(\"Even numbers\",even_num)"
   ]
  },
  {
   "cell_type": "code",
   "execution_count": 8,
   "id": "e29a9776-e3d5-4264-bd5c-d0e18f03c1cd",
   "metadata": {},
   "outputs": [],
   "source": [
    "#Filter with mask"
   ]
  },
  {
   "cell_type": "code",
   "execution_count": 9,
   "id": "a7f5518f-9cc2-4127-8b68-6566dd7c9e7c",
   "metadata": {},
   "outputs": [
    {
     "name": "stdout",
     "output_type": "stream",
     "text": [
      "Numbers greter than 5  [ 6  7  8  9 10]\n"
     ]
    }
   ],
   "source": [
    "mask = num >5\n",
    "print(\"Numbers greter than 5 \",num[mask])"
   ]
  },
  {
   "cell_type": "code",
   "execution_count": null,
   "id": "000e3749-0bf6-4e56-b026-6ecdfd11bfb1",
   "metadata": {},
   "outputs": [],
   "source": []
  }
 ],
 "metadata": {
  "kernelspec": {
   "display_name": "Python [conda env:base] *",
   "language": "python",
   "name": "conda-base-py"
  },
  "language_info": {
   "codemirror_mode": {
    "name": "ipython",
    "version": 3
   },
   "file_extension": ".py",
   "mimetype": "text/x-python",
   "name": "python",
   "nbconvert_exporter": "python",
   "pygments_lexer": "ipython3",
   "version": "3.12.7"
  }
 },
 "nbformat": 4,
 "nbformat_minor": 5
}
