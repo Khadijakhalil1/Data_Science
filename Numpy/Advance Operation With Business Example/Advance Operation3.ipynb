{
 "cells": [
  {
   "cell_type": "code",
   "execution_count": 1,
   "id": "d7c9c21b-947c-433e-9c01-351a5831e556",
   "metadata": {},
   "outputs": [],
   "source": [
    "import numpy as np\n",
    "import matplotlib.pyplot as plt"
   ]
  },
  {
   "cell_type": "code",
   "execution_count": 2,
   "id": "9af60778-58e5-4ef0-8612-3e6b220966c9",
   "metadata": {},
   "outputs": [],
   "source": [
    "#Data Structure:[resturant_id,2021,2022,2023,2024]\n",
    "sales_data =np.array([\n",
    "    [1,150000,180000,220000,250000],    #Sundar Biryani House\n",
    "    [2,120000,140000,160000,190000],    #Beijing Bites\n",
    "    [3,200000,230000,260000,300000],    #Pizza Hub\n",
    "    [4,180000,210000,240000,270000],    #Burger point \n",
    "    [5,160000,185000,205000,230000]     #Coffee Shop\n",
    "])"
   ]
  },
  {
   "cell_type": "code",
   "execution_count": 3,
   "id": "d9a9b6f5-3c1d-4086-ba82-39e76da7c9b7",
   "metadata": {},
   "outputs": [
    {
     "name": "stdout",
     "output_type": "stream",
     "text": [
      "=== Zomato sales analysis ===\n"
     ]
    }
   ],
   "source": [
    "print(\"=== Zomato sales analysis ===\")"
   ]
  },
  {
   "cell_type": "code",
   "execution_count": 4,
   "id": "dc908dce-8902-4c77-a00f-538155230dff",
   "metadata": {},
   "outputs": [
    {
     "name": "stdout",
     "output_type": "stream",
     "text": [
      "\n",
      " Sales data shape (5, 5)\n",
      "\n",
      " Sample data for 1st 3 retau : [[150000 180000 220000 250000]\n",
      " [120000 140000 160000 190000]\n",
      " [200000 230000 260000 300000]\n",
      " [180000 210000 240000 270000]\n",
      " [160000 185000 205000 230000]]\n"
     ]
    }
   ],
   "source": [
    "print(\"\\n Sales data shape\",sales_data.shape)\n",
    "print(\"\\n Sample data for 1st 3 retau :\",sales_data[:, 1:])\n"
   ]
  },
  {
   "cell_type": "code",
   "execution_count": 5,
   "id": "0401d52a-9564-4110-98b9-a34df439cf8f",
   "metadata": {},
   "outputs": [
    {
     "name": "stdout",
     "output_type": "stream",
     "text": [
      "[150000 120000 200000 180000 160000]\n"
     ]
    }
   ],
   "source": [
    "#Minimum sales per resturaant\n",
    "min_sales = np.min(sales_data[:,1:],axis=1)\n",
    "print(min_sales)"
   ]
  },
  {
   "cell_type": "code",
   "execution_count": 6,
   "id": "5dbb621c-8248-45dc-8ec8-cca7992d821b",
   "metadata": {},
   "outputs": [
    {
     "name": "stdout",
     "output_type": "stream",
     "text": [
      "[200000 230000 260000 300000]\n"
     ]
    }
   ],
   "source": [
    "#Maximum sales per resturaant\n",
    "max_sales = np.max(sales_data[:,1:],axis=0)\n",
    "print(max_sales)"
   ]
  },
  {
   "cell_type": "code",
   "execution_count": 7,
   "id": "490ec649-9cda-4e2f-b060-fcda7939883c",
   "metadata": {},
   "outputs": [
    {
     "name": "stdout",
     "output_type": "stream",
     "text": [
      "[200000. 152500. 247500. 225000. 195000.]\n"
     ]
    }
   ],
   "source": [
    "#Average sales per resturaant\n",
    "avg_sales = np.mean(sales_data[:,1:],axis=1)\n",
    "print(avg_sales)"
   ]
  },
  {
   "cell_type": "code",
   "execution_count": 8,
   "id": "9b841da7-4bf3-479d-a747-8607a3a2ccea",
   "metadata": {},
   "outputs": [
    {
     "name": "stdout",
     "output_type": "stream",
     "text": [
      "[[150000 330000 550000 800000]\n",
      " [120000 260000 420000 610000]\n",
      " [200000 430000 690000 990000]\n",
      " [180000 390000 630000 900000]\n",
      " [160000 345000 550000 780000]]\n"
     ]
    }
   ],
   "source": [
    "cumsum = np.cumsum(sales_data[:,1:],axis=1)\n",
    "print(cumsum)"
   ]
  },
  {
   "cell_type": "code",
   "execution_count": 9,
   "id": "d274d75f-0d6c-4b92-b065-579297b2ea6b",
   "metadata": {},
   "outputs": [
    {
     "name": "stdout",
     "output_type": "stream",
     "text": [
      "Vectorized Upper ['BIRYANI' 'CHINESE' 'PIZZA' 'BURGER' 'CAFE']\n",
      "[[12500.         15000.         18333.33333333 20833.33333333]\n",
      " [10000.         11666.66666667 13333.33333333 15833.33333333]\n",
      " [16666.66666667 19166.66666667 21666.66666667 25000.        ]\n",
      " [15000.         17500.         20000.         22500.        ]\n",
      " [13333.33333333 15416.66666667 17083.33333333 19166.66666667]]\n"
     ]
    }
   ],
   "source": [
    "resturant_type =np.array(['biryani','chinese','pizza','burger','cafe'])\n",
    "vectorized_upper = np.vectorize(str.upper)\n",
    "print(\"Vectorized Upper\",vectorized_upper(resturant_type))\n",
    "monthly_avg =sales_data[:,1:] / 12\n",
    "print(monthly_avg)"
   ]
  },
  {
   "cell_type": "code",
   "execution_count": null,
   "id": "410cb9a3-0045-4784-84c1-fe679506e331",
   "metadata": {},
   "outputs": [],
   "source": []
  }
 ],
 "metadata": {
  "kernelspec": {
   "display_name": "Python [conda env:base] *",
   "language": "python",
   "name": "conda-base-py"
  },
  "language_info": {
   "codemirror_mode": {
    "name": "ipython",
    "version": 3
   },
   "file_extension": ".py",
   "mimetype": "text/x-python",
   "name": "python",
   "nbconvert_exporter": "python",
   "pygments_lexer": "ipython3",
   "version": "3.12.7"
  }
 },
 "nbformat": 4,
 "nbformat_minor": 5
}
