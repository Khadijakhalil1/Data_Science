{
 "cells": [
  {
   "cell_type": "code",
   "execution_count": 1,
   "id": "d328bc20-96e8-437d-873b-d12fd5d7a20f",
   "metadata": {},
   "outputs": [],
   "source": [
    "import numpy as np"
   ]
  },
  {
   "cell_type": "markdown",
   "id": "16cda928-ff1b-4ed0-9883-383344354a43",
   "metadata": {},
   "source": [
    "# Array Compatibilty"
   ]
  },
  {
   "cell_type": "code",
   "execution_count": 2,
   "id": "5c53b3ad-efb3-4d12-9091-fba69eb4e213",
   "metadata": {},
   "outputs": [
    {
     "name": "stdout",
     "output_type": "stream",
     "text": [
      "compatibilty shapes False\n"
     ]
    }
   ],
   "source": [
    "a =np.array([1,2,3])\n",
    "b =np.array([4,6,7,9])\n",
    "c =np.array([8,5,2])\n",
    "print(\"compatibilty shapes\",a.shape == b.shape)"
   ]
  },
  {
   "cell_type": "code",
   "execution_count": 3,
   "id": "66318701-2dc3-427f-aa2b-18c597a1b7ad",
   "metadata": {},
   "outputs": [
    {
     "name": "stdout",
     "output_type": "stream",
     "text": [
      "[[1 2]\n",
      " [3 4]]\n",
      "[[1 2]\n",
      " [3 4]\n",
      " [5 6]]\n"
     ]
    }
   ],
   "source": [
    "ori =np.array([[1,2],[3,4]])\n",
    "new_row =np.array([5,6])\n",
    "\n",
    "with_new_row =np.vstack((ori,new_row))\n",
    "print(ori)\n",
    "print(with_new_row)"
   ]
  },
  {
   "cell_type": "code",
   "execution_count": null,
   "id": "96ed2289-a14e-4ea0-b89b-848ab4cb101d",
   "metadata": {},
   "outputs": [],
   "source": []
  }
 ],
 "metadata": {
  "kernelspec": {
   "display_name": "Python [conda env:base] *",
   "language": "python",
   "name": "conda-base-py"
  },
  "language_info": {
   "codemirror_mode": {
    "name": "ipython",
    "version": 3
   },
   "file_extension": ".py",
   "mimetype": "text/x-python",
   "name": "python",
   "nbconvert_exporter": "python",
   "pygments_lexer": "ipython3",
   "version": "3.12.7"
  }
 },
 "nbformat": 4,
 "nbformat_minor": 5
}
