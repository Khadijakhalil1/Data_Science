{
 "cells": [
  {
   "cell_type": "code",
   "execution_count": 6,
   "id": "0d9f5327-0cf7-4053-8481-b56bdd4bea58",
   "metadata": {},
   "outputs": [],
   "source": [
    "import numpy as np"
   ]
  },
  {
   "cell_type": "code",
   "execution_count": 11,
   "id": "2ae95fbf-c2ea-43cc-876c-a64e683da762",
   "metadata": {},
   "outputs": [
    {
     "name": "stdout",
     "output_type": "stream",
     "text": [
      "[1 7 4 8 9 8 7 6]\n"
     ]
    }
   ],
   "source": [
    "var1 =np.array([1,7,4,8])\n",
    "var2 = np.array([9,8,7,6])\n",
    "arr =np.concatenate((var1,var2))\n",
    "print(arr)"
   ]
  },
  {
   "cell_type": "code",
   "execution_count": 12,
   "id": "7a13796a-e54a-4342-8296-b947949e4b5a",
   "metadata": {},
   "outputs": [
    {
     "name": "stdout",
     "output_type": "stream",
     "text": [
      "[[6 3]\n",
      " [7 9]\n",
      " [3 3]\n",
      " [4 2]]\n"
     ]
    }
   ],
   "source": [
    "v = np.array([[6,3],[7,9]])\n",
    "v1 = np.array([[3,3],[4,2]])\n",
    "arr =np.concatenate((v,v1))\n",
    "print(arr)"
   ]
  },
  {
   "cell_type": "code",
   "execution_count": null,
   "id": "050bdca3-960f-4d6b-adde-73737715cfa9",
   "metadata": {},
   "outputs": [],
   "source": []
  }
 ],
 "metadata": {
  "kernelspec": {
   "display_name": "Python [conda env:base] *",
   "language": "python",
   "name": "conda-base-py"
  },
  "language_info": {
   "codemirror_mode": {
    "name": "ipython",
    "version": 3
   },
   "file_extension": ".py",
   "mimetype": "text/x-python",
   "name": "python",
   "nbconvert_exporter": "python",
   "pygments_lexer": "ipython3",
   "version": "3.12.7"
  }
 },
 "nbformat": 4,
 "nbformat_minor": 5
}
